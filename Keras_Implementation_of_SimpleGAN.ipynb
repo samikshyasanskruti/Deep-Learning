{
  "cells": [
    {
      "cell_type": "markdown",
      "metadata": {
        "id": "view-in-github",
        "colab_type": "text"
      },
      "source": [
        "<a href=\"https://colab.research.google.com/github/samikshyasanskruti/Deep-Learning/blob/main/Keras_Implementation_of_SimpleGAN.ipynb\" target=\"_parent\"><img src=\"https://colab.research.google.com/assets/colab-badge.svg\" alt=\"Open In Colab\"/></a>"
      ]
    },
    {
      "cell_type": "code",
      "execution_count": 1,
      "metadata": {
        "id": "1CkpIhqvYMrJ"
      },
      "outputs": [],
      "source": [
        "#Import Libraries\n",
        "\n",
        "import numpy as np\n",
        "import matplotlib.pyplot as plt\n",
        "from tensorflow.keras.datasets import mnist\n",
        "from tensorflow.keras.models import Sequential, Model\n",
        "from tensorflow.keras.layers import Dense, LeakyReLU, BatchNormalization, Reshape,Flatten, Input,Dropout\n",
        "from tensorflow.keras.optimizers import Adam"
      ]
    },
    {
      "cell_type": "code",
      "execution_count": 2,
      "metadata": {
        "id": "PR3BOMI8YbYe"
      },
      "outputs": [],
      "source": [
        "# Hyperparameters\n",
        "\n",
        "latent_dim = 100\n",
        "img_shape = (28, 28, 1)\n",
        "batch_size = 128\n",
        "epochs = 20\n",
        "sample_interval = 1000"
      ]
    },
    {
      "cell_type": "code",
      "execution_count": 3,
      "metadata": {
        "id": "0Rin9rdpY5vB",
        "colab": {
          "base_uri": "https://localhost:8080/"
        },
        "outputId": "ecda521c-5dc4-4bee-c94f-55d6454b3b32"
      },
      "outputs": [
        {
          "output_type": "stream",
          "name": "stdout",
          "text": [
            "Downloading data from https://storage.googleapis.com/tensorflow/tf-keras-datasets/mnist.npz\n",
            "\u001b[1m11490434/11490434\u001b[0m \u001b[32m━━━━━━━━━━━━━━━━━━━━\u001b[0m\u001b[37m\u001b[0m \u001b[1m1s\u001b[0m 0us/step\n"
          ]
        }
      ],
      "source": [
        "# Load and preprocess MNIST data\n",
        "\n",
        "(X_train,_), (_, _) = mnist.load_data()\n",
        "X_train = X_train / 127.5 - 1.0 # Normalize images to [-1, 1]\n",
        "X_train = np.expand_dims(X_train, axis=3)"
      ]
    },
    {
      "cell_type": "code",
      "execution_count": 4,
      "metadata": {
        "id": "_4OtfU_aaD4M"
      },
      "outputs": [],
      "source": [
        "# Generator Network\n",
        "\n",
        "def build_generator():\n",
        "  model = Sequential()\n",
        "  model.add(Dense(128, input_dim=100))\n",
        "  model.add(LeakyReLU(0.2))\n",
        "  model.add(Dense(256))\n",
        "  model.add(LeakyReLU(0.2))\n",
        "  model.add(Dense(512))\n",
        "  model.add(LeakyReLU(0.2))\n",
        "  model.add(Dense(1024))\n",
        "  model.add(LeakyReLU(0.2))\n",
        "  model.add(Dense(784, activation='tanh')) # Output image vector\n",
        "\n",
        "  noise = Input(shape=(latent_dim,))\n",
        "  img = model(noise)\n",
        "\n",
        "  return Model(noise, img)"
      ]
    },
    {
      "cell_type": "code",
      "execution_count": 5,
      "metadata": {
        "id": "iuqBAafNaZaC"
      },
      "outputs": [],
      "source": [
        "# Discriminator Network\n",
        "\n",
        "from tensorflow.keras.layers import Dropout, Flatten\n",
        "\n",
        "def build_discriminator():\n",
        "  model = Sequential()\n",
        "  # Change input_dim to 784 to match the flattened image size\n",
        "  model.add(Dense(1024, input_dim=784))\n",
        "  model.add(LeakyReLU(0.2))\n",
        "  model.add(Dropout(0.3))\n",
        "  model.add(Dense(512))\n",
        "  model.add(LeakyReLU(0.2))\n",
        "  model.add(Dropout(0.3))\n",
        "  model.add(Dense(256))\n",
        "  model.add(LeakyReLU(0.2))\n",
        "  model.add(Dropout(0.3))\n",
        "  model.add(Dense(256))\n",
        "  model.add(LeakyReLU(0.2))\n",
        "  model.add(Dropout(0.3))\n",
        "  model.add(Dense(128))\n",
        "  model.add(LeakyReLU(0.2))\n",
        "  model.add(Dropout(0.3))\n",
        "  model.add(Dense(1, activation='sigmoid')) # Probability output\n",
        "\n",
        "  # The input to the discriminator should be the flattened image\n",
        "  img = Input(shape=(784,))\n",
        "  validity = model(img)\n",
        "\n",
        "  return Model(img, validity)"
      ]
    },
    {
      "cell_type": "code",
      "execution_count": 6,
      "metadata": {
        "id": "fWxpFsVLajRY",
        "colab": {
          "base_uri": "https://localhost:8080/"
        },
        "outputId": "d901effb-89e0-4b18-d762-dcefb1a2ef0d"
      },
      "outputs": [
        {
          "output_type": "stream",
          "name": "stderr",
          "text": [
            "/usr/local/lib/python3.11/dist-packages/keras/src/layers/core/dense.py:87: UserWarning: Do not pass an `input_shape`/`input_dim` argument to a layer. When using Sequential models, prefer using an `Input(shape)` object as the first layer in the model instead.\n",
            "  super().__init__(activity_regularizer=activity_regularizer, **kwargs)\n"
          ]
        }
      ],
      "source": [
        "# Build and compile discriminator\n",
        "\n",
        "discriminator = build_discriminator()\n",
        "discriminator.compile(loss='binary_crossentropy',optimizer=Adam(0.0002, 0.5),metrics=['accuracy'])\n",
        "\n",
        "# Build generator\n",
        "\n",
        "generator = build_generator()\n",
        "\n",
        "# Combined GAN model (generator --> discriminator)\n",
        "\n",
        "z = Input(shape=(latent_dim,))\n",
        "img = generator(z)\n",
        "# The discriminator expects a flattened image, so no reshape is needed here as the generator already outputs a flattened image of shape 784.\n",
        "discriminator.trainable = False # Freeze discriminator during generator training\n",
        "validity = discriminator(img) # Pass the flattened image directly to the discriminator\n",
        "gan = Model(z, validity)\n",
        "gan.compile(loss='binary_crossentropy', optimizer=Adam(0.0002, 0.5))"
      ]
    },
    {
      "cell_type": "code",
      "execution_count": 7,
      "metadata": {
        "id": "-TEwiKMpc60m"
      },
      "outputs": [],
      "source": [
        "# Training function\n",
        "\n",
        "def train_gan():\n",
        "    valid = np.ones((batch_size, 1))\n",
        "    fake = np.zeros((batch_size, 1))\n",
        "\n",
        "    for epoch in range(epochs):\n",
        "        # ---------------------\n",
        "        # Train Discriminator\n",
        "        # ---------------------\n",
        "        # Select random real images\n",
        "        idx = np.random.randint(0, X_train.shape[0], batch_size)\n",
        "        real_imgs = X_train[idx]\n",
        "\n",
        "        # Flatten the real images before passing them to the discriminator\n",
        "        real_imgs = real_imgs.reshape(batch_size, 784)\n",
        "\n",
        "        # Generate fake images\n",
        "        noise = np.random.normal(0, 1, (batch_size, latent_dim))\n",
        "        gen_imgs = generator.predict(noise)\n",
        "\n",
        "        # Train discriminator\n",
        "        d_loss_real = discriminator.train_on_batch(real_imgs, valid)\n",
        "        d_loss_fake = discriminator.train_on_batch(gen_imgs, fake)\n",
        "        # d_loss_real and d_loss_fake are lists: [loss, accuracy]\n",
        "        d_loss = 0.5* np.add(d_loss_real, d_loss_fake)\n",
        "\n",
        "        # ---------------------\n",
        "        # Train Generator\n",
        "        # ---------------------\n",
        "        noise = np.random.normal(0, 1, (batch_size, latent_dim))\n",
        "        g_loss = gan.train_on_batch(noise, valid) # g_loss is a scalar\n",
        "\n",
        "        # Print progress\n",
        "        if epoch % sample_interval == 0:\n",
        "           # Access d_loss elements correctly and handle scalar g_loss\n",
        "           print(f\"{epoch} [D loss: {d_loss[0]} | D accuracy:{100*d_loss[1]}] [G loss: {g_loss}]\")\n",
        "\n",
        "           sample_images(epoch)\n",
        "\n",
        "# Generate and save sample images\n",
        "def sample_images(epoch):\n",
        "    r, c = 5, 5\n",
        "    noise = np.random.normal(0, 1, (r* c, latent_dim))\n",
        "    gen_imgs = generator.predict(noise)\n",
        "\n",
        "    # Rescale images 0 - 1\n",
        "    gen_imgs = 0.5* gen_imgs + 0.5\n",
        "\n",
        "    fig, axs = plt.subplots(r, c)\n",
        "    cnt = 0\n",
        "    for i in range(r):\n",
        "        for j in range(c):\n",
        "            # Reshape the generated image for displaying\n",
        "            axs[i,j].imshow(gen_imgs[cnt].reshape(28, 28), cmap='gray')\n",
        "            axs[i,j].axis('off')\n",
        "            cnt += 1\n",
        "    fig.savefig(f\"mnist_{epoch}.png\")\n",
        "    plt.close()"
      ]
    },
    {
      "cell_type": "code",
      "execution_count": 8,
      "metadata": {
        "id": "7a0iZ7gNc-bs",
        "colab": {
          "base_uri": "https://localhost:8080/"
        },
        "outputId": "5d96371b-7cbf-48ad-c29f-eed63010db5a"
      },
      "outputs": [
        {
          "output_type": "stream",
          "name": "stdout",
          "text": [
            "\u001b[1m4/4\u001b[0m \u001b[32m━━━━━━━━━━━━━━━━━━━━\u001b[0m\u001b[37m\u001b[0m \u001b[1m1s\u001b[0m 7ms/step  \n"
          ]
        },
        {
          "output_type": "stream",
          "name": "stderr",
          "text": [
            "/usr/local/lib/python3.11/dist-packages/keras/src/backend/tensorflow/trainer.py:82: UserWarning: The model does not have any trainable weights.\n",
            "  warnings.warn(\"The model does not have any trainable weights.\")\n"
          ]
        },
        {
          "output_type": "stream",
          "name": "stdout",
          "text": [
            "0 [D loss: 0.7657419443130493 | D accuracy:48.2421875] [G loss: 0.6986088752746582]\n",
            "\u001b[1m1/1\u001b[0m \u001b[32m━━━━━━━━━━━━━━━━━━━━\u001b[0m\u001b[37m\u001b[0m \u001b[1m0s\u001b[0m 416ms/step\n",
            "\u001b[1m4/4\u001b[0m \u001b[32m━━━━━━━━━━━━━━━━━━━━\u001b[0m\u001b[37m\u001b[0m \u001b[1m0s\u001b[0m 6ms/step \n",
            "\u001b[1m4/4\u001b[0m \u001b[32m━━━━━━━━━━━━━━━━━━━━\u001b[0m\u001b[37m\u001b[0m \u001b[1m0s\u001b[0m 6ms/step \n",
            "\u001b[1m4/4\u001b[0m \u001b[32m━━━━━━━━━━━━━━━━━━━━\u001b[0m\u001b[37m\u001b[0m \u001b[1m0s\u001b[0m 7ms/step \n",
            "\u001b[1m4/4\u001b[0m \u001b[32m━━━━━━━━━━━━━━━━━━━━\u001b[0m\u001b[37m\u001b[0m \u001b[1m0s\u001b[0m 6ms/step \n",
            "\u001b[1m4/4\u001b[0m \u001b[32m━━━━━━━━━━━━━━━━━━━━\u001b[0m\u001b[37m\u001b[0m \u001b[1m0s\u001b[0m 6ms/step \n",
            "\u001b[1m4/4\u001b[0m \u001b[32m━━━━━━━━━━━━━━━━━━━━\u001b[0m\u001b[37m\u001b[0m \u001b[1m0s\u001b[0m 6ms/step \n",
            "\u001b[1m4/4\u001b[0m \u001b[32m━━━━━━━━━━━━━━━━━━━━\u001b[0m\u001b[37m\u001b[0m \u001b[1m0s\u001b[0m 6ms/step \n",
            "\u001b[1m4/4\u001b[0m \u001b[32m━━━━━━━━━━━━━━━━━━━━\u001b[0m\u001b[37m\u001b[0m \u001b[1m0s\u001b[0m 5ms/step \n",
            "\u001b[1m4/4\u001b[0m \u001b[32m━━━━━━━━━━━━━━━━━━━━\u001b[0m\u001b[37m\u001b[0m \u001b[1m0s\u001b[0m 6ms/step \n",
            "\u001b[1m4/4\u001b[0m \u001b[32m━━━━━━━━━━━━━━━━━━━━\u001b[0m\u001b[37m\u001b[0m \u001b[1m0s\u001b[0m 5ms/step \n",
            "\u001b[1m4/4\u001b[0m \u001b[32m━━━━━━━━━━━━━━━━━━━━\u001b[0m\u001b[37m\u001b[0m \u001b[1m0s\u001b[0m 5ms/step \n",
            "\u001b[1m4/4\u001b[0m \u001b[32m━━━━━━━━━━━━━━━━━━━━\u001b[0m\u001b[37m\u001b[0m \u001b[1m0s\u001b[0m 7ms/step \n",
            "\u001b[1m4/4\u001b[0m \u001b[32m━━━━━━━━━━━━━━━━━━━━\u001b[0m\u001b[37m\u001b[0m \u001b[1m0s\u001b[0m 7ms/step \n",
            "\u001b[1m4/4\u001b[0m \u001b[32m━━━━━━━━━━━━━━━━━━━━\u001b[0m\u001b[37m\u001b[0m \u001b[1m0s\u001b[0m 10ms/step\n",
            "\u001b[1m4/4\u001b[0m \u001b[32m━━━━━━━━━━━━━━━━━━━━\u001b[0m\u001b[37m\u001b[0m \u001b[1m0s\u001b[0m 10ms/step\n",
            "\u001b[1m4/4\u001b[0m \u001b[32m━━━━━━━━━━━━━━━━━━━━\u001b[0m\u001b[37m\u001b[0m \u001b[1m0s\u001b[0m 10ms/step\n",
            "\u001b[1m4/4\u001b[0m \u001b[32m━━━━━━━━━━━━━━━━━━━━\u001b[0m\u001b[37m\u001b[0m \u001b[1m0s\u001b[0m 7ms/step \n",
            "\u001b[1m4/4\u001b[0m \u001b[32m━━━━━━━━━━━━━━━━━━━━\u001b[0m\u001b[37m\u001b[0m \u001b[1m0s\u001b[0m 9ms/step \n",
            "\u001b[1m4/4\u001b[0m \u001b[32m━━━━━━━━━━━━━━━━━━━━\u001b[0m\u001b[37m\u001b[0m \u001b[1m0s\u001b[0m 9ms/step \n"
          ]
        }
      ],
      "source": [
        "# Start training\n",
        "train_gan()"
      ]
    }
  ],
  "metadata": {
    "colab": {
      "provenance": [],
      "gpuType": "T4",
      "authorship_tag": "ABX9TyMuc+Us6NZNo9qfVX5EGr2V",
      "include_colab_link": true
    },
    "kernelspec": {
      "display_name": "Python 3",
      "name": "python3"
    },
    "language_info": {
      "name": "python"
    },
    "accelerator": "GPU"
  },
  "nbformat": 4,
  "nbformat_minor": 0
}